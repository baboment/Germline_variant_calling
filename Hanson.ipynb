{
  "cells": [
    {
      "cell_type": "markdown",
      "metadata": {
        "id": "view-in-github",
        "colab_type": "text"
      },
      "source": [
        "<a href=\"https://colab.research.google.com/github/baboment/Germline_variant_calling/blob/main/Hanson.ipynb\" target=\"_parent\"><img src=\"https://colab.research.google.com/assets/colab-badge.svg\" alt=\"Open In Colab\"/></a>"
      ]
    },
    {
      "cell_type": "markdown",
      "metadata": {
        "id": "wE-JN928NW1N"
      },
      "source": [
        "##### Template Sbatch Script\n",
        "To Testh That our tools is ready tu use or not\n",
        "\n",
        "Tools list that need for this part is\n",
        "FastQC, BWA, Sammtools, GATK4"
      ]
    },
    {
      "cell_type": "code",
      "execution_count": null,
      "metadata": {
        "id": "LECBf8qhNW1P"
      },
      "outputs": [],
      "source": [
        "#!/bin/bash\n",
        "\n",
        "#SBATCH -p compute                  # ระบุ partition หรือประภทเครื่องที่ใช้งาน [Compute/Memory/GPU]\n",
        "#SBATCH -N 1 --ntasks-per-node=10   # ระบุจำนวนเครื่อง (nodes) และ จำนวน core ต่อ node\n",
        "#SBATCH -t 2:00:00                 \t# ระบุเวลาที่ต้องการจองหรือใช้งาน (time limit) สูงสุด โดยมีรูปแบบคือ  ชั่วโมง:นาที:วินาที\n",
        "#SBATCH -J Variant                  # ระบุชื่อของ Job\n",
        "#SBATCH --output=Variant%j.out    \t# ระบุชื่อของ ไฟล์ที่เก็บ Stdout ของ Job\n",
        "#SBATCH --error=Variant%j.err  \t\t# ระบุชื่อของ Job error ของ Job\n",
        "#SBATCH -A proj5059                 # ระบุ Project account ซึ่งจะได้หลังจากการ Register **หากไม่ระบุในส่วนนี้จะไม่สามารถรันงานได้\n",
        "\n",
        "\n",
        "module purge                        #unload module ทั้งหมด เพราะว่าอาจจะมีการ Load module ไว้ก่อนหน้านั้น\n",
        "source /tarafs/data/project/proj5059-CMTEAM/miniconda3/etc/profile.d/conda.sh\n",
        "\n",
        "conda activate gatk4\n",
        "\n",
        "\n"
      ]
    },
    {
      "cell_type": "markdown",
      "metadata": {
        "id": "f5dIztcPNW1R"
      },
      "source": [
        "This is command for fastCQ help option"
      ]
    },
    {
      "cell_type": "code",
      "execution_count": null,
      "metadata": {
        "id": "RxaFUHmuNW1R"
      },
      "outputs": [],
      "source": [
        "fastqc -h > help.txt"
      ]
    },
    {
      "cell_type": "markdown",
      "metadata": {
        "id": "ROOWv2F-NW1R"
      },
      "source": [
        "Now we check the reslut in help.txt file to see that our tools is ready or not"
      ]
    },
    {
      "cell_type": "code",
      "execution_count": null,
      "metadata": {
        "id": "nhim16QFNW1R"
      },
      "outputs": [],
      "source": [
        "cat help.txt"
      ]
    },
    {
      "cell_type": "markdown",
      "metadata": {
        "id": "Uk33dCXtNW1S"
      },
      "source": [
        "Create the directory at your home dir name workshop"
      ]
    },
    {
      "cell_type": "code",
      "execution_count": null,
      "metadata": {
        "id": "fUNhsOsFNW1S"
      },
      "outputs": [],
      "source": [
        "cd ~\n",
        "mkdir workshop"
      ]
    },
    {
      "cell_type": "markdown",
      "metadata": {
        "id": "_9ZwFlK9NW1S"
      },
      "source": [
        "Create new Sbatch script and copy sbatch script template to the top of sbatch script"
      ]
    },
    {
      "cell_type": "code",
      "execution_count": null,
      "metadata": {
        "id": "t2oSwy_hNW1T"
      },
      "outputs": [],
      "source": [
        "nano fastqc.sh"
      ]
    },
    {
      "cell_type": "markdown",
      "metadata": {
        "id": "fZOTj2IpNW1T"
      },
      "source": [
        "Then now we know that The fastqc now ready to use now we move to tun on the real data that you were assigned"
      ]
    },
    {
      "cell_type": "code",
      "execution_count": null,
      "metadata": {
        "id": "zcZ5dcLDNW1T"
      },
      "outputs": [],
      "source": [
        "#!/bin/bash\n",
        "\n",
        "#SBATCH -p compute                  # ระบุ partition หรือประภทเครื่องที่ใช้งาน [Compute/Memory/GPU]\n",
        "#SBATCH -N 1 --ntasks-per-node=10   # ระบุจำนวนเครื่อง (nodes) และ จำนวน core ต่อ node\n",
        "#SBATCH -t 2:00:00                 \t# ระบุเวลาที่ต้องการจองหรือใช้งาน (time limit) สูงสุด โดยมีรูปแบบคือ  ชั่วโมง:นาที:วินาที\n",
        "#SBATCH -J Variant                  # ระบุชื่อของ Job\n",
        "#SBATCH --output=Variant%j.out    \t# ระบุชื่อของ ไฟล์ที่เก็บ Stdout ของ Job\n",
        "#SBATCH --error=Variant%j.err  \t\t# ระบุชื่อของ Job error ของ Job\n",
        "#SBATCH -A proj5059                 # ระบุ Project account ซึ่งจะได้หลังจากการ Register **หากไม่ระบุในส่วนนี้จะไม่สามารถรันงานได้\n",
        "\n",
        "\n",
        "module purge                        #unload module ทั้งหมด เพราะว่าอาจจะมีการ Load module ไว้ก่อนหน้านั้น\n",
        "source /tarafs/data/project/proj5059-CMTEAM/miniconda3/etc/profile.d/conda.sh\n",
        "\n",
        "conda activate gatk4\n",
        "fastq_1=\"/tarafs/data/project/proj5059-CMTEAM/genome_vcf/G_2/SP06/SP06.1.fq.gz\"\n",
        "fastq_2=\"/tarafs/data/project/proj5059-CMTEAM/genome_vcf/G_2/SP06/SP06.2.fq.gz\"\n",
        "out_dir=\"/tarafs/data/home/pnoisaku/workshop/\"\n",
        "\n",
        "fastqc ${fastq_1} ${fastq_2} -o ${out_dir}\n"
      ]
    },
    {
      "cell_type": "code",
      "execution_count": null,
      "metadata": {
        "id": "ibiGN-iFNW1U"
      },
      "outputs": [],
      "source": [
        "sbatch fastqc.sh"
      ]
    },
    {
      "cell_type": "markdown",
      "metadata": {
        "id": "xTzuzsw7NW1U"
      },
      "source": [
        "After you submit your job you will see the job ID of your submit job to check you job status you need run following command"
      ]
    },
    {
      "cell_type": "code",
      "execution_count": null,
      "metadata": {
        "id": "jUNjPcHKNW1U"
      },
      "outputs": [],
      "source": [
        "squeue -u pnoisaku"
      ]
    },
    {
      "cell_type": "markdown",
      "metadata": {
        "id": "oVM5xCAHNW1U"
      },
      "source": [
        "squeue -u <your_user_id>"
      ]
    },
    {
      "cell_type": "markdown",
      "metadata": {
        "id": "2GhekhUCNW1U"
      },
      "source": [
        "Or you can quit your submit job by using command"
      ]
    },
    {
      "cell_type": "code",
      "execution_count": null,
      "metadata": {
        "id": "TzarBftONW1V"
      },
      "outputs": [],
      "source": [
        "scancel <Job ID>"
      ]
    },
    {
      "cell_type": "markdown",
      "metadata": {
        "id": "2xrvz-3HNW1V"
      },
      "source": [
        "#############################  Hands-on Part1 BWA mem  "
      ]
    },
    {
      "cell_type": "markdown",
      "metadata": {
        "id": "7CBPXGbyNW1V"
      },
      "source": [
        "Now create new sbatch script and add the template on the top of new s batch script"
      ]
    },
    {
      "cell_type": "markdown",
      "metadata": {
        "id": "orxpJmbENW1V"
      },
      "source": [
        "You need to chage the path to the Fastq File and your work shop directory at your home Dir"
      ]
    },
    {
      "cell_type": "code",
      "execution_count": null,
      "metadata": {
        "id": "SWIVN34sNW1V"
      },
      "outputs": [],
      "source": [
        "#!/bin/bash\n",
        "\n",
        "#SBATCH -p compute                  # ระบุ partition หรือประภทเครื่องที่ใช้งาน [Compute/Memory/GPU]\n",
        "#SBATCH -N 1 --ntasks-per-node=20   # ระบุจำนวนเครื่อง (nodes) และ จำนวน core ต่อ node\n",
        "#SBATCH -t 1:00:00                 \t# ระบุเวลาที่ต้องการจองหรือใช้งาน (time limit) สูงสุด โดยมีรูปแบบคือ  ชั่วโมง:นาที:วินาที\n",
        "#SBATCH -J Variant                  # ระบุชื่อของ Job\n",
        "#SBATCH --output=Variant%j.out    \t# ระบุชื่อของ ไฟล์ที่เก็บ Stdout ของ Job\n",
        "#SBATCH --error=Variant%j.err  \t\t# ระบุชื่อของ Job error ของ Job\n",
        "#SBATCH -A proj5059                 # ระบุ Project account ซึ่งจะได้หลังจากการ Register **หากไม่ระบุในส่วนนี้จะไม่สามารถรันงานได้\n",
        "\n",
        "\n",
        "module purge                        #unload module ทั้งหมด เพราะว่าอาจจะมีการ Load module ไว้ก่อนหน้านั้น\n",
        "source /tarafs/data/project/proj5059-CMTEAM/miniconda3/etc/profile.d/conda.sh\n",
        "\n",
        "conda activate gatk4\n",
        "fastq_1=\"/tarafs/data/project/proj5059-CMTEAM/genome_vcf/G_2/SP06/SP06.1.fq.gz\"\n",
        "fastq_2=\"/tarafs/data/project/proj5059-CMTEAM/genome_vcf/G_2/SP06/SP06.2.fq.gz\"\n",
        "out_dir=\"/tarafs/data/home/pnoisaku/workshop/\"\n",
        "ref=\"/tarafs/data/project/proj5059-CMTEAM/genome_vcf/HG19/v0/Homo_sapiens_assembly19.fasta\"\n",
        "sample_name=\"SP06\"\n",
        "\n",
        "\n",
        "bwa mem -t 20 -M -P \\\n",
        "${ref} \\\n",
        "${fastq_1} \\\n",
        "${fastq_2} > ${out_dir}/1_${sample_name}_align.sam\n",
        "\n",
        "samtools flagstat ${out_dir}/1_${sample_name}_align.sam > ${out_dir}/1_alignment_metrics.txt\n",
        "\n",
        "samtools view -@20 -bS ${out_dir}/1_${sample_name}_align.sam > ${out_dir}/1_${sample_name}_align.bam\n"
      ]
    },
    {
      "cell_type": "code",
      "execution_count": null,
      "metadata": {
        "id": "zx3W3xrMNW1W"
      },
      "outputs": [],
      "source": [
        "sbatch bwa.sh"
      ]
    },
    {
      "cell_type": "markdown",
      "metadata": {
        "id": "yHKHKTSxNW1W"
      },
      "source": [
        "Check your submit job on squeue"
      ]
    },
    {
      "cell_type": "code",
      "execution_count": null,
      "metadata": {
        "id": "OTyyynZSNW1W"
      },
      "outputs": [],
      "source": [
        "squeue -u pnoisaku"
      ]
    },
    {
      "cell_type": "markdown",
      "metadata": {
        "id": "6t9iFyU7NW1W"
      },
      "source": [
        "#Now check output SAM file and Alignment matrics (no need sbatch)"
      ]
    },
    {
      "cell_type": "code",
      "execution_count": null,
      "metadata": {
        "id": "bW5ZFh5qNW1W"
      },
      "outputs": [],
      "source": [
        "cat 1_${sample_name}_align.sam | head -n 50   # ดู header samfile"
      ]
    },
    {
      "cell_type": "code",
      "execution_count": null,
      "metadata": {
        "id": "Md_uPbqvNW1X"
      },
      "outputs": [],
      "source": [
        "cat 1_${sample_name}_align.sam | grep -v \"@\" | head -n 10  # ดู alignment samfile"
      ]
    },
    {
      "cell_type": "code",
      "execution_count": null,
      "metadata": {
        "id": "UkeKRmVfNW1X"
      },
      "outputs": [],
      "source": [
        "cat 1_alignment_metrics.txt # ดู"
      ]
    },
    {
      "cell_type": "markdown",
      "metadata": {
        "id": "ot3CpVM5NW1X"
      },
      "source": [
        "#############################  Hands-on Part2 Sam  "
      ]
    },
    {
      "cell_type": "markdown",
      "metadata": {
        "id": "GjFkPBpDNW1X"
      },
      "source": [
        "Now create new sbatch (markdup.sh) script and dont for get to paste template on top and change your workshop DIR estimate time(30 min)"
      ]
    },
    {
      "cell_type": "code",
      "execution_count": null,
      "metadata": {
        "id": "13RF5EQBNW1Y"
      },
      "outputs": [],
      "source": [
        "#!/bin/bash\n",
        "\n",
        "#SBATCH -p compute                  # ระบุ partition หรือประภทเครื่องที่ใช้งาน [Compute/Memory/GPU]\n",
        "#SBATCH -N 1 --ntasks-per-node=10   # ระบุจำนวนเครื่อง (nodes) และ จำนวน core ต่อ node\n",
        "#SBATCH -t 2:00:00                 \t# ระบุเวลาที่ต้องการจองหรือใช้งาน (time limit) สูงสุด โดยมีรูปแบบคือ  ชั่วโมง:นาที:วินาที\n",
        "#SBATCH -J Variant                  # ระบุชื่อของ Job\n",
        "#SBATCH --output=Variant%j.out    \t# ระบุชื่อของ ไฟล์ที่เก็บ Stdout ของ Job\n",
        "#SBATCH --error=Variant%j.err  \t\t# ระบุชื่อของ Job error ของ Job\n",
        "#SBATCH -A proj5059                 # ระบุ Project account ซึ่งจะได้หลังจากการ Register **หากไม่ระบุในส่วนนี้จะไม่สามารถรันงานได้\n",
        "\n",
        "\n",
        "module purge                        #unload module ทั้งหมด เพราะว่าอาจจะมีการ Load module ไว้ก่อนหน้านั้น\n",
        "source /tarafs/data/project/proj5059-CMTEAM/miniconda3/etc/profile.d/conda.sh\n",
        "\n",
        "conda activate gatk4\n",
        "\n",
        "out_dir=\"/tarafs/data/home/pnoisaku/workshop/\"\n",
        "ref=\"/tarafs/data/project/proj5059-CMTEAM/genome_vcf/HG19/v0/Homo_sapiens_assembly19.fasta\"\n",
        "sample_name=\"SP06\"\n",
        "memory=\"32\"\n",
        "\n",
        "#Sort sam and convert to bam\n",
        "gatk --java-options \"-Xms8G -Xmx${memory}G\" SortSam \\\n",
        "\t--INPUT ${out_dir}/1_${sample_name}_align.bam \\\n",
        "\t--OUTPUT ${out_dir}/2_${sample_name}_align_sorted.bam \\\n",
        "\t--SORT_ORDER coordinate \\\n",
        "\t--TMP_DIR ./TMP \\\n",
        "\t--CREATE_INDEX true\n",
        "\n",
        "#add read group to BAM\n",
        "echo -e \"aAdd read group to BAM...\\n\"\n",
        "gatk --java-options \"-Xms8G -Xmx${memory}G\" AddOrReplaceReadGroups \\\n",
        "\t-I ${out_dir}/2_${sample_name}_align_sorted.bam \\\n",
        "\t-O ${out_dir}/2_${sample_name}_align_sorted_group.bam \\\n",
        "\t--RGID 1 \\\n",
        "\t--RGLB lib1 \\\n",
        "\t--RGPL illumina \\\n",
        "\t--RGPU unit1 \\\n",
        "\t--RGSM ${sample_name} \\\n",
        "\t--TMP_DIR ./TMP \\\n",
        "\t--SORT_ORDER coordinate\n",
        "\n",
        "\n",
        "\n",
        "#Mark Duplicates\n",
        "gatk --java-options \"-Xms8G -Xmx${memory}G\" MarkDuplicates \\\n",
        "\t--INPUT ${out_dir}/2_${sample_name}_align_sorted_group.bam \\\n",
        "\t--OUTPUT ${out_dir}/2_${sample_name}_align_sorted_group_dedup.bam \\\n",
        "\t--METRICS_FILE ${out_dir}/3_metrics.txt \\\n",
        "\t--TMP_DIR ./TMP\n",
        "\n",
        "\n",
        "#Prepare reference dictionary, fasta index, and bam index\n",
        "samtools index -@ 10 ${out_dir}/2_${sample_name}_align_sorted_group_dedup.bam\n"
      ]
    },
    {
      "cell_type": "code",
      "execution_count": null,
      "metadata": {
        "id": "uTsjXrojNW1Y"
      },
      "outputs": [],
      "source": [
        "sbatch markdup.sh"
      ]
    },
    {
      "cell_type": "markdown",
      "metadata": {
        "id": "Ryztc44eNW1Y"
      },
      "source": [
        "#############################  Hands-on Part3 Sam"
      ]
    },
    {
      "cell_type": "markdown",
      "metadata": {
        "id": "wQzljfXBNW1Y"
      },
      "source": [
        "Now we create new sbatch script for BQSR process bqsr.sh"
      ]
    },
    {
      "cell_type": "code",
      "execution_count": null,
      "metadata": {
        "id": "v-hAFAGrNW1Z"
      },
      "outputs": [],
      "source": [
        "#!/bin/bash\n",
        "\n",
        "#SBATCH -p compute                  # ระบุ partition หรือประภทเครื่องที่ใช้งาน [Compute/Memory/GPU]\n",
        "#SBATCH -N 1 --ntasks-per-node=10   # ระบุจำนวนเครื่อง (nodes) และ จำนวน core ต่อ node\n",
        "#SBATCH -t 2:00:00                 \t# ระบุเวลาที่ต้องการจองหรือใช้งาน (time limit) สูงสุด โดยมีรูปแบบคือ  ชั่วโมง:นาที:วินาที\n",
        "#SBATCH -J Variant                  # ระบุชื่อของ Job\n",
        "#SBATCH --output=Variant%j.out    \t# ระบุชื่อของ ไฟล์ที่เก็บ Stdout ของ Job\n",
        "#SBATCH --error=Variant%j.err  \t\t# ระบุชื่อของ Job error ของ Job\n",
        "#SBATCH -A proj5059                 # ระบุ Project account ซึ่งจะได้หลังจากการ Register **หากไม่ระบุในส่วนนี้จะไม่สามารถรันงานได้\n",
        "\n",
        "\n",
        "module purge                        #unload module ทั้งหมด เพราะว่าอาจจะมีการ Load module ไว้ก่อนหน้านั้น\n",
        "source /tarafs/data/project/proj5059-CMTEAM/miniconda3/etc/profile.d/conda.sh\n",
        "\n",
        "conda activate gatk4\n",
        "\n",
        "out_dir=\"/tarafs/data/home/pnoisaku/fastqc_out/workshop\"\n",
        "ref=\"/tarafs/data/project/proj5059-CMTEAM/genome_vcf/HG19/v0/Homo_sapiens_assembly19.fasta\"\n",
        "sample_name=\"SP06\"\n",
        "memory=\"32\"\n",
        "\n",
        "knownSites_dbsnp=\"/tarafs/data/project/proj5059-CMTEAM/genome_vcf/HG19/v0/dbsnp_138.b37.vcf.gz\"\n",
        "knownSites_indel=\"/tarafs/data/project/proj5059-CMTEAM/genome_vcf/HG19/v0/Homo_sapiens_assembly19.known_indels.vcf.gz\"\n",
        "\n",
        "\n",
        "\n",
        "#Step 1: Analyze Covaration\n",
        "gatk --java-options \"-Xms8G -Xmx${memory}G\" BaseRecalibrator \\\n",
        "\t-R ${ref} \\\n",
        "\t-I ${out_dir}/2_${sample_name}_align_sorted_group_dedup.bam \\\n",
        "\t-known-sites ${knownSites_dbsnp} \\\n",
        "\t-known-sites ${knownSites_indel} \\\n",
        "\t-O ${out_dir}/3_${sample_name}_align_sorted_group_dedup_recal.table\n",
        "\n",
        "\n",
        "#Step 2: Apply BQSR\n",
        "gatk --java-options \"-Xms8G -Xmx${memory}G\" ApplyBQSR \\\n",
        "-R ${ref} \\\n",
        "-I ${out_dir}/2_${sample_name}_align_sorted_group_dedup.bam \\\n",
        "-bqsr-recal-file ${out_dir}/3_${sample_name}_align_sorted_group_dedup_recal.table \\\n",
        "-O ${out_dir}/3_${sample_name}_align_sorted_group_dedup_recal.bam\n"
      ]
    },
    {
      "cell_type": "code",
      "execution_count": null,
      "metadata": {
        "id": "WLSGPnbSNW1Z"
      },
      "outputs": [],
      "source": [
        "sbatch bqsr.sh"
      ]
    },
    {
      "cell_type": "markdown",
      "metadata": {
        "id": "C1ZGRQlKNW1Z"
      },
      "source": [
        "#############################  Hands-on Part4 Sam"
      ]
    },
    {
      "cell_type": "markdown",
      "metadata": {
        "id": "fSlEUV25NW1Z"
      },
      "source": [
        "create sbatch sctipt and run the Haplotype caller from your preprocessed bam file and split the Raw VCF file to snps and indel vcf file for further step"
      ]
    },
    {
      "cell_type": "code",
      "execution_count": null,
      "metadata": {
        "id": "v6PnC4akNW1f"
      },
      "outputs": [],
      "source": [
        "#!/bin/bash\n",
        "\n",
        "#SBATCH -p compute                  # ระบุ partition หรือประภทเครื่องที่ใช้งาน [Compute/Memory/GPU]\n",
        "#SBATCH -N 1 --ntasks-per-node=20   # ระบุจำนวนเครื่อง (nodes) และ จำนวน core ต่อ node\n",
        "#SBATCH -t 2:00:00                 \t# ระบุเวลาที่ต้องการจองหรือใช้งาน (time limit) สูงสุด โดยมีรูปแบบคือ  ชั่วโมง:นาที:วินาที\n",
        "#SBATCH -J Variant                  # ระบุชื่อของ Job\n",
        "#SBATCH --output=Variant%j.out    \t# ระบุชื่อของ ไฟล์ที่เก็บ Stdout ของ Job\n",
        "#SBATCH --error=Variant%j.err  \t\t# ระบุชื่อของ Job error ของ Job\n",
        "#SBATCH -A proj5059                 # ระบุ Project account ซึ่งจะได้หลังจากการ Register **หากไม่ระบุในส่วนนี้จะไม่สามารถรันงานได้\n",
        "\n",
        "\n",
        "module purge                        #unload module ทั้งหมด เพราะว่าอาจจะมีการ Load module ไว้ก่อนหน้านั้น\n",
        "source /tarafs/data/project/proj5059-CMTEAM/miniconda3/etc/profile.d/conda.sh\n",
        "\n",
        "conda activate gatk4\n",
        "\n",
        "out_dir=\"/tarafs/data/home/pnoisaku/fastqc_out/workshop\"\n",
        "ref=\"/tarafs/data/project/proj5059-CMTEAM/genome_vcf/HG19/v0/Homo_sapiens_assembly19.fasta\"\n",
        "sample_name=\"SP06\"\n",
        "memory=\"32\"\n",
        "\n",
        "###1. variant calling\n",
        "\n",
        "gatk --java-options \"-Xms8G -Xmx${memory}G\" HaplotypeCaller \\\n",
        "-R ${ref} \\\n",
        "-I ${out_dir}/3_${sample_name}_align_sorted_group_dedup_recal.bam \\\n",
        "-O ${out_dir}/4_${sample_name}.g.vcf.gz \\\n",
        "-ERC GVCF \\\n",
        "--native-pair-hmm-threads 20 \\\n",
        "--native-pair-hmm-use-double-precision true \\\n",
        "--sample-ploidy 2 \\\n",
        "--minimum-mapping-quality 20\n",
        "\n",
        "### 2. call genotype\n",
        "gatk --java-options \"-Xms8G -Xmx${memory}G\" GenotypeGVCFs \\\n",
        "-R ${ref} \\\n",
        "-V ${out_dir}/4_${sample_name}.g.vcf.gz \\\n",
        "-O ${out_dir}/4_${sample_name}.genotype.vcf.gz\n",
        "\n",
        "###3. variant select SNP\n",
        "gatk --java-options \"-Xms8G -Xmx${memory}G\" SelectVariants \\\n",
        "-R ${ref} \\\n",
        "-V ${out_dir}/4_${sample_name}.genotype.vcf.gz \\\n",
        "--select-type-to-include SNP \\\n",
        "-O ${outdir}/04_${sample_name}.snp.vcf.gz\n",
        "\n",
        "###4. variant select INDEL\n",
        "gatk --java-options \"-Xms8G -Xmx${memory}G\" SelectVariants \\\n",
        "-R ${ref} \\\n",
        "-V ${outdir}/04_${sample_name}.genotype.vcf.gz \\\n",
        "--select-type-to-include INDEL \\\n",
        "-O ${outdir}/04_${sample_name}.indel.vcf.gz"
      ]
    },
    {
      "cell_type": "markdown",
      "metadata": {
        "id": "bpVIYpeQNW1g"
      },
      "source": [
        "#############################  Hands-on Part5 Sam"
      ]
    },
    {
      "cell_type": "code",
      "execution_count": null,
      "metadata": {
        "id": "eH5nPFZqNW1g"
      },
      "outputs": [],
      "source": [
        "#!/bin/bash\n",
        "\n",
        "#SBATCH -p compute                  # ระบุ partition หรือประภทเครื่องที่ใช้งาน [Compute/Memory/GPU]\n",
        "#SBATCH -N 1 --ntasks-per-node=20   # ระบุจำนวนเครื่อง (nodes) และ จำนวน core ต่อ node\n",
        "#SBATCH -t 2:00:00                 \t# ระบุเวลาที่ต้องการจองหรือใช้งาน (time limit) สูงสุด โดยมีรูปแบบคือ  ชั่วโมง:นาที:วินาที\n",
        "#SBATCH -J Variant                  # ระบุชื่อของ Job\n",
        "#SBATCH --output=Variant%j.out    \t# ระบุชื่อของ ไฟล์ที่เก็บ Stdout ของ Job\n",
        "#SBATCH --error=Variant%j.err  \t\t# ระบุชื่อของ Job error ของ Job\n",
        "#SBATCH -A proj5059                 # ระบุ Project account ซึ่งจะได้หลังจากการ Register **หากไม่ระบุในส่วนนี้จะไม่สามารถรันงานได้\n",
        "\n",
        "\n",
        "module purge                        #unload module ทั้งหมด เพราะว่าอาจจะมีการ Load module ไว้ก่อนหน้านั้น\n",
        "source /tarafs/data/project/proj5059-CMTEAM/miniconda3/etc/profile.d/conda.sh\n",
        "\n",
        "conda activate gatk4\n",
        "\n",
        "out_dir=\"/tarafs/data/home/pnoisaku/fastqc_out/workshop\"\n",
        "ref=\"/tarafs/data/project/proj5059-CMTEAM/genome_vcf/HG19/v0/Homo_sapiens_assembly19.fasta\"\n",
        "sample_name=\"SP06\"\n",
        "memory=32\n",
        "\n",
        "hapmap=\"/tarafs/data/project/proj5059-CMTEAM/genome_vcf/HG19/v0/hapmap_3.3.b37.vcf.gz\"\n",
        "omni=\"/tarafs/data/project/proj5059-CMTEAM/genome_vcf/HG19/v0/1000G_omni2.5.b37.vcf.gz\"\n",
        "G1000=\"/tarafs/data/project/proj5059-CMTEAM/genome_vcf/HG19/v0/1000G_phase1.snps.high_confidence.b37.vcf.gz\"\n",
        "dbsnp=\"/tarafs/data/project/proj5059-CMTEAM/genome_vcf/HG19/v0/dbsnp_138.b37.vcf.gz\"\n",
        "mills=\"/tarafs/data/project/proj5059-CMTEAM/genome_vcf/HG19/v0/Mills_and_1000G_gold_standard.indels.b37.vcf.gz\"\n",
        "\n",
        "\n",
        "\n",
        "#1. SNP variant recallibrate\n",
        "gatk --java-options \"-Xms8G -Xmx${memory}G\" VariantRecalibrator \\\n",
        "-R ${ref} \\\n",
        "-V ${outdir}/04_${sample_name}.snp.vcf.gz \\\n",
        "--resource:hapmap,known=false,training=true,truth=true,prior=15.0 \\\n",
        "   ${hapmap} \\\n",
        "--resource:omni,known=false,training=true,truth=false,prior=12.0 \\\n",
        "   ${omni} \\\n",
        "--resource:1000G,known=false,training=true,truth=false,prior=10.0 \\\n",
        "   ${G1000} \\\n",
        "--resource:dbsnp,known=true,training=false,truth=false,prior=2.0 \\\n",
        "   ${dbsnp} \\\n",
        "--max-gaussians 4 \\\n",
        "-an QD -an MQ -an MQRankSum -an ReadPosRankSum -an FS -an SOR \\\n",
        "-mode SNP \\\n",
        "--output ${outdir}/05_${sample_name}.snp_recal \\\n",
        "--tranches-file ${outdir}/05_${sample_name}.snp_recal.tranches\n",
        "\n",
        "\n",
        "#2. INDEL recallibrate\n",
        "gatk --java-options \"-Xms8G -Xmx${memory}G\" VariantRecalibrator \\\n",
        "-R ${ref} \\\n",
        "-V ${outdir}/04_${sample_name}.indel.vcf.gz \\\n",
        "--resource:mills,known=false,training=true,truth=true,prior=12.0 \\\n",
        "   ${mills} \\\n",
        "--resource:omni,known=false,training=true,truth=false,prior=12.0 \\\n",
        "   ${omni} \\\n",
        "--resource:1000G,known=false,training=true,truth=false,prior=10.0 \\\n",
        "   ${G1000} \\\n",
        "--resource:dbsnp,known=true,training=false,truth=false,prior=2.0 \\\n",
        "   ${dbsnp} \\\n",
        "--max-gaussians 4 \\\n",
        "-an QD -an MQ -an MQRankSum -an ReadPosRankSum -an FS -an SOR \\\n",
        "-mode INDEL \\\n",
        "--output ${outdir}/05_${sample_name}.indel_recal \\\n",
        "--tranches-file ${outdir}/05_${sample_name}.indel_recal.tranches\n",
        "\n",
        "\n",
        "#3. ApplyVQSR to snp\n",
        "gatk --java-options \"-Xms8G -Xmx${memory}G\" ApplyVQSR \\\n",
        "-R ${ref} \\\n",
        "-V ${outdir}/04_${sample_name}.snp.vcf.gz \\\n",
        "--truth-sensitivity-filter-level 99 \\\n",
        "--recal-file ${outdir}/05_${sample_name}.snp_recal \\\n",
        "--tranches-file ${outdir}/05_${sample_name}.snp_recal.tranches  \\\n",
        "-mode SNP \\\n",
        "-O ${outdir}/06_${sample_name}.snp_recallibrate.vcf.gz\n",
        "\n",
        "#4. ApplyVQSR to idel\n",
        "gatk --java-options \"-Xms8G -Xmx${memory}G\" ApplyVQSR \\\n",
        "-R ${ref} \\\n",
        "-V ${outdir}/04_${sample_name}.indel.vcf.gz \\\n",
        "--truth-sensitivity-filter-level 99 \\\n",
        "--recal-file ${outdir}/05_${sample_name}.indel_recal \\\n",
        "--tranches-file ${outdir}/05_${sample_name}.indel_recal.tranches  \\\n",
        "-mode INDEL \\\n",
        "-O ${outdir}/06_${sample_name}.indel_recallibrate.vcf.gz\n",
        "\n",
        "#5. MerVCF file from SNVs and Indels\n",
        "gatk --java-options \"-Xmx${memory}G -XX:ParallelGCThreads=20\" MergeVcfs \\\n",
        "    -O 07_${sample_name}_filtered_merge.vcf \\\n",
        "    -I ${outdir}/06_${sample_name}.snp_recallibrate.vcf.gz \\\n",
        "    -I ${outdir}/06_${sample_name}.indel_recallibrate.vcf.gz \\\n",
        "    --TMP_DIR ./TMP\n",
        "\n",
        "#6. collect headder and only \"PASS\" variant to the final file for further prediction\n",
        "grep \"#\" 07_${sample_name}_filtered_merge.vcf > 07_${sample_name}_filtered_merge_pass.vcf\n",
        "grep \"PASS\" 07_${sample_name}_filtered_merge.vcf >> 07_${sample_name}_filtered_merge_pass.vcf"
      ]
    },
    {
      "cell_type": "markdown",
      "metadata": {
        "id": "ghy9aujWNW1g"
      },
      "source": [
        "Open and see inside the final VCF file"
      ]
    },
    {
      "cell_type": "code",
      "execution_count": null,
      "metadata": {
        "id": "-5_q-BeoNW1h"
      },
      "outputs": [],
      "source": [
        "head -n 100 07_${sample_name}_filtered_merge_pass.vcf"
      ]
    },
    {
      "cell_type": "code",
      "execution_count": null,
      "metadata": {
        "id": "YfbCv0OJNW1h"
      },
      "outputs": [],
      "source": [
        "grep -v \"#\" 07_${sample_name}_filtered_merge_pass.vcf | head -n 10"
      ]
    }
  ],
  "metadata": {
    "language_info": {
      "name": "python"
    },
    "colab": {
      "provenance": [],
      "include_colab_link": true
    }
  },
  "nbformat": 4,
  "nbformat_minor": 0
}